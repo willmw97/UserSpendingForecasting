{
 "cells": [
  {
   "cell_type": "code",
   "execution_count": 16,
   "metadata": {},
   "outputs": [],
   "source": [
    "import numpy as np\n",
    "import tensorflow as tf\n",
    "from tensorflow import keras\n",
    "import pandas as pd\n",
    "import seaborn as sns\n",
    "from pylab import rcParams\n",
    "import matplotlib.pyplot as plt\n",
    "from matplotlib import rc\n",
    "from tensorflow.python.keras.layers import Input, Dense\n",
    "from tensorflow.python.keras.models import Sequential\n",
    "\n",
    "%matplotlib inline\n",
    "%config InlineBackend.figure_format='retina'"
   ]
  },
  {
   "cell_type": "code",
   "execution_count": 17,
   "metadata": {},
   "outputs": [],
   "source": [
    "def create_dataset(X, y, time_steps=1):\n",
    "    Xs, ys = [], []\n",
    "    for i in range(len(X) - time_steps):\n",
    "        v = X.iloc[i:(i + time_steps)].values\n",
    "        Xs.append(v)\n",
    "        ys.append(y.iloc[i + time_steps])\n",
    "    return np.array(Xs), np.array(ys)"
   ]
  },
  {
   "cell_type": "code",
   "execution_count": 27,
   "metadata": {},
   "outputs": [],
   "source": [
    "df = pd.read_csv('MonthyConsumptionPercentageChanges.csv')"
   ]
  },
  {
   "cell_type": "code",
   "execution_count": 28,
   "metadata": {},
   "outputs": [
    {
     "data": {
      "text/html": [
       "<div>\n",
       "<style scoped>\n",
       "    .dataframe tbody tr th:only-of-type {\n",
       "        vertical-align: middle;\n",
       "    }\n",
       "\n",
       "    .dataframe tbody tr th {\n",
       "        vertical-align: top;\n",
       "    }\n",
       "\n",
       "    .dataframe thead th {\n",
       "        text-align: right;\n",
       "    }\n",
       "</style>\n",
       "<table border=\"1\" class=\"dataframe\">\n",
       "  <thead>\n",
       "    <tr style=\"text-align: right;\">\n",
       "      <th></th>\n",
       "      <th>DATE</th>\n",
       "      <th>Consumption</th>\n",
       "    </tr>\n",
       "  </thead>\n",
       "  <tbody>\n",
       "    <tr>\n",
       "      <th>0</th>\n",
       "      <td>2000-01-01</td>\n",
       "      <td>-0.3</td>\n",
       "    </tr>\n",
       "    <tr>\n",
       "      <th>1</th>\n",
       "      <td>2000-02-01</td>\n",
       "      <td>1.0</td>\n",
       "    </tr>\n",
       "    <tr>\n",
       "      <th>2</th>\n",
       "      <td>2000-03-01</td>\n",
       "      <td>0.6</td>\n",
       "    </tr>\n",
       "    <tr>\n",
       "      <th>3</th>\n",
       "      <td>2000-04-01</td>\n",
       "      <td>-0.1</td>\n",
       "    </tr>\n",
       "    <tr>\n",
       "      <th>4</th>\n",
       "      <td>2000-05-01</td>\n",
       "      <td>0.5</td>\n",
       "    </tr>\n",
       "    <tr>\n",
       "      <th>...</th>\n",
       "      <td>...</td>\n",
       "      <td>...</td>\n",
       "    </tr>\n",
       "    <tr>\n",
       "      <th>241</th>\n",
       "      <td>2020-02-01</td>\n",
       "      <td>-0.1</td>\n",
       "    </tr>\n",
       "    <tr>\n",
       "      <th>242</th>\n",
       "      <td>2020-03-01</td>\n",
       "      <td>-6.5</td>\n",
       "    </tr>\n",
       "    <tr>\n",
       "      <th>243</th>\n",
       "      <td>2020-04-01</td>\n",
       "      <td>-12.4</td>\n",
       "    </tr>\n",
       "    <tr>\n",
       "      <th>244</th>\n",
       "      <td>2020-05-01</td>\n",
       "      <td>8.3</td>\n",
       "    </tr>\n",
       "    <tr>\n",
       "      <th>245</th>\n",
       "      <td>2020-06-01</td>\n",
       "      <td>5.2</td>\n",
       "    </tr>\n",
       "  </tbody>\n",
       "</table>\n",
       "<p>246 rows × 2 columns</p>\n",
       "</div>"
      ],
      "text/plain": [
       "           DATE  Consumption\n",
       "0    2000-01-01         -0.3\n",
       "1    2000-02-01          1.0\n",
       "2    2000-03-01          0.6\n",
       "3    2000-04-01         -0.1\n",
       "4    2000-05-01          0.5\n",
       "..          ...          ...\n",
       "241  2020-02-01         -0.1\n",
       "242  2020-03-01         -6.5\n",
       "243  2020-04-01        -12.4\n",
       "244  2020-05-01          8.3\n",
       "245  2020-06-01          5.2\n",
       "\n",
       "[246 rows x 2 columns]"
      ]
     },
     "execution_count": 28,
     "metadata": {},
     "output_type": "execute_result"
    }
   ],
   "source": [
    "df"
   ]
  },
  {
   "cell_type": "code",
   "execution_count": 29,
   "metadata": {},
   "outputs": [],
   "source": [
    "\n",
    "df = pd.DataFrame(data=df,columns=['Consumption'])"
   ]
  },
  {
   "cell_type": "code",
   "execution_count": 30,
   "metadata": {},
   "outputs": [
    {
     "data": {
      "text/html": [
       "<div>\n",
       "<style scoped>\n",
       "    .dataframe tbody tr th:only-of-type {\n",
       "        vertical-align: middle;\n",
       "    }\n",
       "\n",
       "    .dataframe tbody tr th {\n",
       "        vertical-align: top;\n",
       "    }\n",
       "\n",
       "    .dataframe thead th {\n",
       "        text-align: right;\n",
       "    }\n",
       "</style>\n",
       "<table border=\"1\" class=\"dataframe\">\n",
       "  <thead>\n",
       "    <tr style=\"text-align: right;\">\n",
       "      <th></th>\n",
       "      <th>Consumption</th>\n",
       "    </tr>\n",
       "  </thead>\n",
       "  <tbody>\n",
       "    <tr>\n",
       "      <th>0</th>\n",
       "      <td>-0.3</td>\n",
       "    </tr>\n",
       "    <tr>\n",
       "      <th>1</th>\n",
       "      <td>1.0</td>\n",
       "    </tr>\n",
       "    <tr>\n",
       "      <th>2</th>\n",
       "      <td>0.6</td>\n",
       "    </tr>\n",
       "    <tr>\n",
       "      <th>3</th>\n",
       "      <td>-0.1</td>\n",
       "    </tr>\n",
       "    <tr>\n",
       "      <th>4</th>\n",
       "      <td>0.5</td>\n",
       "    </tr>\n",
       "    <tr>\n",
       "      <th>...</th>\n",
       "      <td>...</td>\n",
       "    </tr>\n",
       "    <tr>\n",
       "      <th>241</th>\n",
       "      <td>-0.1</td>\n",
       "    </tr>\n",
       "    <tr>\n",
       "      <th>242</th>\n",
       "      <td>-6.5</td>\n",
       "    </tr>\n",
       "    <tr>\n",
       "      <th>243</th>\n",
       "      <td>-12.4</td>\n",
       "    </tr>\n",
       "    <tr>\n",
       "      <th>244</th>\n",
       "      <td>8.3</td>\n",
       "    </tr>\n",
       "    <tr>\n",
       "      <th>245</th>\n",
       "      <td>5.2</td>\n",
       "    </tr>\n",
       "  </tbody>\n",
       "</table>\n",
       "<p>246 rows × 1 columns</p>\n",
       "</div>"
      ],
      "text/plain": [
       "     Consumption\n",
       "0           -0.3\n",
       "1            1.0\n",
       "2            0.6\n",
       "3           -0.1\n",
       "4            0.5\n",
       "..           ...\n",
       "241         -0.1\n",
       "242         -6.5\n",
       "243        -12.4\n",
       "244          8.3\n",
       "245          5.2\n",
       "\n",
       "[246 rows x 1 columns]"
      ]
     },
     "execution_count": 30,
     "metadata": {},
     "output_type": "execute_result"
    }
   ],
   "source": [
    "df"
   ]
  },
  {
   "cell_type": "code",
   "execution_count": 31,
   "metadata": {},
   "outputs": [
    {
     "name": "stdout",
     "output_type": "stream",
     "text": [
      "196 50\n"
     ]
    }
   ],
   "source": [
    "train_size = int(len(df) * 0.8)\n",
    "test_size = len(df) - train_size\n",
    "train, test = df.iloc[0:train_size], df.iloc[train_size:len(df)]\n",
    "print(len(train), len(test))"
   ]
  },
  {
   "cell_type": "code",
   "execution_count": 32,
   "metadata": {},
   "outputs": [
    {
     "name": "stdout",
     "output_type": "stream",
     "text": [
      "(184, 12, 1) (184,)\n"
     ]
    }
   ],
   "source": [
    "time_steps = 12\n",
    "\n",
    "# reshape to [samples, time_steps, n_features]\n",
    "\n",
    "X_train, y_train = create_dataset(train, train.Consumption, time_steps)\n",
    "X_test, y_test = create_dataset(test, test.Consumption, time_steps)\n",
    "\n",
    "print(X_train.shape, y_train.shape)"
   ]
  },
  {
   "cell_type": "code",
   "execution_count": 33,
   "metadata": {},
   "outputs": [],
   "source": [
    "model = keras.Sequential()\n",
    "model.add(keras.layers.LSTM(\n",
    "  units=128,\n",
    "  input_shape=(X_train.shape[1], X_train.shape[2])\n",
    "))\n",
    "model.add(keras.layers.Dense(units=1))\n",
    "model.compile(\n",
    "  loss='mean_squared_error',\n",
    "  optimizer=keras.optimizers.Adam(0.001)\n",
    ")"
   ]
  },
  {
   "cell_type": "code",
   "execution_count": 34,
   "metadata": {},
   "outputs": [
    {
     "name": "stdout",
     "output_type": "stream",
     "text": [
      "Epoch 1/30\n",
      "11/11 [==============================] - 0s 37ms/step - loss: 0.1488 - val_loss: 0.0355\n",
      "Epoch 2/30\n",
      "11/11 [==============================] - 0s 10ms/step - loss: 0.1366 - val_loss: 0.0374\n",
      "Epoch 3/30\n",
      "11/11 [==============================] - 0s 9ms/step - loss: 0.1337 - val_loss: 0.0350\n",
      "Epoch 4/30\n",
      "11/11 [==============================] - 0s 9ms/step - loss: 0.1328 - val_loss: 0.0334\n",
      "Epoch 5/30\n",
      "11/11 [==============================] - 0s 9ms/step - loss: 0.1316 - val_loss: 0.0337\n",
      "Epoch 6/30\n",
      "11/11 [==============================] - 0s 9ms/step - loss: 0.1303 - val_loss: 0.0328\n",
      "Epoch 7/30\n",
      "11/11 [==============================] - 0s 9ms/step - loss: 0.1295 - val_loss: 0.0323\n",
      "Epoch 8/30\n",
      "11/11 [==============================] - 0s 9ms/step - loss: 0.1285 - val_loss: 0.0319\n",
      "Epoch 9/30\n",
      "11/11 [==============================] - 0s 9ms/step - loss: 0.1278 - val_loss: 0.0314\n",
      "Epoch 10/30\n",
      "11/11 [==============================] - 0s 10ms/step - loss: 0.1271 - val_loss: 0.0311\n",
      "Epoch 11/30\n",
      "11/11 [==============================] - 0s 10ms/step - loss: 0.1264 - val_loss: 0.0308\n",
      "Epoch 12/30\n",
      "11/11 [==============================] - 0s 9ms/step - loss: 0.1259 - val_loss: 0.0305\n",
      "Epoch 13/30\n",
      "11/11 [==============================] - 0s 9ms/step - loss: 0.1253 - val_loss: 0.0303\n",
      "Epoch 14/30\n",
      "11/11 [==============================] - 0s 10ms/step - loss: 0.1249 - val_loss: 0.0301\n",
      "Epoch 15/30\n",
      "11/11 [==============================] - 0s 9ms/step - loss: 0.1244 - val_loss: 0.0299\n",
      "Epoch 16/30\n",
      "11/11 [==============================] - 0s 9ms/step - loss: 0.1240 - val_loss: 0.0297\n",
      "Epoch 17/30\n",
      "11/11 [==============================] - 0s 9ms/step - loss: 0.1236 - val_loss: 0.0296\n",
      "Epoch 18/30\n",
      "11/11 [==============================] - 0s 10ms/step - loss: 0.1232 - val_loss: 0.0294\n",
      "Epoch 19/30\n",
      "11/11 [==============================] - 0s 10ms/step - loss: 0.1228 - val_loss: 0.0293\n",
      "Epoch 20/30\n",
      "11/11 [==============================] - 0s 9ms/step - loss: 0.1224 - val_loss: 0.0291\n",
      "Epoch 21/30\n",
      "11/11 [==============================] - 0s 9ms/step - loss: 0.1219 - val_loss: 0.0290\n",
      "Epoch 22/30\n",
      "11/11 [==============================] - 0s 11ms/step - loss: 0.1215 - val_loss: 0.0289\n",
      "Epoch 23/30\n",
      "11/11 [==============================] - 0s 11ms/step - loss: 0.1210 - val_loss: 0.0289\n",
      "Epoch 24/30\n",
      "11/11 [==============================] - 0s 10ms/step - loss: 0.1205 - val_loss: 0.0288\n",
      "Epoch 25/30\n",
      "11/11 [==============================] - 0s 10ms/step - loss: 0.1200 - val_loss: 0.0289\n",
      "Epoch 26/30\n",
      "11/11 [==============================] - 0s 11ms/step - loss: 0.1194 - val_loss: 0.0289\n",
      "Epoch 27/30\n",
      "11/11 [==============================] - 0s 10ms/step - loss: 0.1189 - val_loss: 0.0290\n",
      "Epoch 28/30\n",
      "11/11 [==============================] - 0s 10ms/step - loss: 0.1184 - val_loss: 0.0292\n",
      "Epoch 29/30\n",
      "11/11 [==============================] - 0s 11ms/step - loss: 0.1178 - val_loss: 0.0293\n",
      "Epoch 30/30\n",
      "11/11 [==============================] - 0s 10ms/step - loss: 0.1174 - val_loss: 0.0294\n"
     ]
    }
   ],
   "source": [
    "history = model.fit(\n",
    "    X_train, y_train,\n",
    "    epochs=30,\n",
    "    batch_size=16,\n",
    "    validation_split=0.1,\n",
    "    verbose=1,\n",
    "    shuffle=False\n",
    ")"
   ]
  },
  {
   "cell_type": "code",
   "execution_count": 35,
   "metadata": {},
   "outputs": [],
   "source": [
    "y_pred = model.predict(X_test)"
   ]
  },
  {
   "cell_type": "code",
   "execution_count": 36,
   "metadata": {},
   "outputs": [
    {
     "data": {
      "image/png": "[encoded data removed]",
      "text/plain": [
       "<Figure size 432x288 with 1 Axes>"
      ]
     },
     "metadata": {
      "image/png": {
       "height": 261,
       "width": 390
      },
      "needs_background": "light"
     },
     "output_type": "display_data"
    }
   ],
   "source": [
    "plt.plot(np.arange(0, len(y_train)), y_train, 'g', label=\"history\")\n",
    "plt.plot(np.arange(len(y_train), len(y_train) + len(y_test)), y_test, marker='.', label=\"true\")\n",
    "plt.plot(np.arange(len(y_train), len(y_train) + len(y_test)), y_pred, 'r', label=\"prediction\")\n",
    "plt.ylabel('Value')\n",
    "plt.xlabel('Time Step')\n",
    "plt.legend()\n",
    "plt.show();"
   ]
  },
  {
   "cell_type": "code",
   "execution_count": null,
   "metadata": {},
   "outputs": [],
   "source": []
  },
  {
   "cell_type": "code",
   "execution_count": null,
   "metadata": {},
   "outputs": [],
   "source": []
  },
  {
   "cell_type": "code",
   "execution_count": null,
   "metadata": {},
   "outputs": [],
   "source": []
  }
 ],
 "metadata": {
  "kernelspec": {
   "display_name": "Python 3",
   "language": "python",
   "name": "python3"
  },
  "language_info": {
   "codemirror_mode": {
    "name": "ipython",
    "version": 3
   },
   "file_extension": ".py",
   "mimetype": "text/x-python",
   "name": "python",
   "nbconvert_exporter": "python",
   "pygments_lexer": "ipython3",
   "version": "3.7.6"
  }
 },
 "nbformat": 4,
 "nbformat_minor": 4
}
